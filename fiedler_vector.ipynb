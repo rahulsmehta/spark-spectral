{
 "cells": [
  {
   "cell_type": "code",
   "execution_count": 1,
   "metadata": {},
   "outputs": [],
   "source": [
    "%matplotlib inline\n",
    "import networkx as nx\n",
    "import numpy as np\n",
    "import pandas as pd\n",
    "import matplotlib.pylab as plt"
   ]
  },
  {
   "cell_type": "code",
   "execution_count": 7,
   "metadata": {},
   "outputs": [],
   "source": [
    "def gen_cc_graph(n_components=5, cc_size=3):\n",
    "    G = nx.Graph()\n",
    "    for cmp in range(n_components):\n",
    "        C = nx.dense_gnm_random_graph(cc_size, cc_size**2)\n",
    "        edges = C.edges()\n",
    "        edges = map(lambda e: (cc_size*cmp+e[0], cc_size*cmp+e[1]),edges)\n",
    "        edges = list(edges)\n",
    "        G.add_edges_from(edges)\n",
    "    return G"
   ]
  },
  {
   "cell_type": "code",
   "execution_count": 83,
   "metadata": {},
   "outputs": [
    {
     "data": {
      "image/png": "[encoded data removed]",
      "text/plain": [
       "<matplotlib.figure.Figure at 0x1520a26e50>"
      ]
     },
     "metadata": {},
     "output_type": "display_data"
    }
   ],
   "source": [
    "G = gen_cc_graph(n_components=10, cc_size=5)\n",
    "nx.draw(G)"
   ]
  },
  {
   "cell_type": "code",
   "execution_count": 85,
   "metadata": {},
   "outputs": [
    {
     "name": "stdout",
     "output_type": "stream",
     "text": [
      "set([0, 1, 2, 3, 4])\n",
      "set([8, 9, 5, 6, 7])\n",
      "set([10, 11, 12, 13, 14])\n",
      "set([16, 17, 18, 19, 15])\n",
      "set([24, 20, 21, 22, 23])\n",
      "set([25, 26, 27, 28, 29])\n",
      "set([32, 33, 34, 30, 31])\n",
      "set([35, 36, 37, 38, 39])\n",
      "set([40, 41, 42, 43, 44])\n",
      "set([48, 49, 45, 46, 47])\n"
     ]
    }
   ],
   "source": [
    "for cc in nx.connected_components(G):\n",
    "    print(cc)"
   ]
  },
  {
   "cell_type": "code",
   "execution_count": 10,
   "metadata": {},
   "outputs": [],
   "source": [
    "from scipy.linalg import eig"
   ]
  },
  {
   "cell_type": "code",
   "execution_count": 11,
   "metadata": {},
   "outputs": [],
   "source": [
    "ev, lv, rv = eig(L, left=True, right=True)"
   ]
  },
  {
   "cell_type": "code",
   "execution_count": 12,
   "metadata": {},
   "outputs": [
    {
     "data": {
      "text/plain": [
       "array([ 1.5+0.j,  0.0+0.j,  1.5+0.j,  1.5+0.j,  0.0+0.j,  1.5+0.j,\n",
       "        1.5+0.j,  0.0+0.j,  1.5+0.j,  1.5+0.j,  0.0+0.j,  1.5+0.j,\n",
       "        1.5+0.j,  0.0+0.j,  1.5+0.j])"
      ]
     },
     "execution_count": 12,
     "metadata": {},
     "output_type": "execute_result"
    }
   ],
   "source": [
    "ev"
   ]
  },
  {
   "cell_type": "code",
   "execution_count": 13,
   "metadata": {},
   "outputs": [
    {
     "data": {
      "text/plain": [
       "array([[ 0.81649658, -0.57735027,  0.11130784,  0.        ,  0.        ,\n",
       "         0.        ,  0.        ,  0.        ,  0.        ,  0.        ,\n",
       "         0.        ,  0.        ,  0.        ,  0.        ,  0.        ],\n",
       "       [-0.40824829, -0.57735027, -0.7561594 ,  0.        ,  0.        ,\n",
       "         0.        ,  0.        ,  0.        ,  0.        ,  0.        ,\n",
       "         0.        ,  0.        ,  0.        ,  0.        ,  0.        ],\n",
       "       [-0.40824829, -0.57735027,  0.64485156,  0.        ,  0.        ,\n",
       "         0.        ,  0.        ,  0.        ,  0.        ,  0.        ,\n",
       "         0.        ,  0.        ,  0.        ,  0.        ,  0.        ],\n",
       "       [ 0.        ,  0.        ,  0.        ,  0.81649658, -0.57735027,\n",
       "         0.11130784,  0.        ,  0.        ,  0.        ,  0.        ,\n",
       "         0.        ,  0.        ,  0.        ,  0.        ,  0.        ],\n",
       "       [ 0.        ,  0.        ,  0.        , -0.40824829, -0.57735027,\n",
       "        -0.7561594 ,  0.        ,  0.        ,  0.        ,  0.        ,\n",
       "         0.        ,  0.        ,  0.        ,  0.        ,  0.        ],\n",
       "       [ 0.        ,  0.        ,  0.        , -0.40824829, -0.57735027,\n",
       "         0.64485156,  0.        ,  0.        ,  0.        ,  0.        ,\n",
       "         0.        ,  0.        ,  0.        ,  0.        ,  0.        ],\n",
       "       [ 0.        ,  0.        ,  0.        ,  0.        ,  0.        ,\n",
       "         0.        ,  0.81649658, -0.57735027,  0.11130784,  0.        ,\n",
       "         0.        ,  0.        ,  0.        ,  0.        ,  0.        ],\n",
       "       [ 0.        ,  0.        ,  0.        ,  0.        ,  0.        ,\n",
       "         0.        , -0.40824829, -0.57735027, -0.7561594 ,  0.        ,\n",
       "         0.        ,  0.        ,  0.        ,  0.        ,  0.        ],\n",
       "       [ 0.        ,  0.        ,  0.        ,  0.        ,  0.        ,\n",
       "         0.        , -0.40824829, -0.57735027,  0.64485156,  0.        ,\n",
       "         0.        ,  0.        ,  0.        ,  0.        ,  0.        ],\n",
       "       [ 0.        ,  0.        ,  0.        ,  0.        ,  0.        ,\n",
       "         0.        ,  0.        ,  0.        ,  0.        ,  0.81649658,\n",
       "        -0.57735027,  0.11130784,  0.        ,  0.        ,  0.        ],\n",
       "       [ 0.        ,  0.        ,  0.        ,  0.        ,  0.        ,\n",
       "         0.        ,  0.        ,  0.        ,  0.        , -0.40824829,\n",
       "        -0.57735027, -0.7561594 ,  0.        ,  0.        ,  0.        ],\n",
       "       [ 0.        ,  0.        ,  0.        ,  0.        ,  0.        ,\n",
       "         0.        ,  0.        ,  0.        ,  0.        , -0.40824829,\n",
       "        -0.57735027,  0.64485156,  0.        ,  0.        ,  0.        ],\n",
       "       [ 0.        ,  0.        ,  0.        ,  0.        ,  0.        ,\n",
       "         0.        ,  0.        ,  0.        ,  0.        ,  0.        ,\n",
       "         0.        ,  0.        ,  0.81649658, -0.57735027,  0.11130784],\n",
       "       [ 0.        ,  0.        ,  0.        ,  0.        ,  0.        ,\n",
       "         0.        ,  0.        ,  0.        ,  0.        ,  0.        ,\n",
       "         0.        ,  0.        , -0.40824829, -0.57735027, -0.7561594 ],\n",
       "       [ 0.        ,  0.        ,  0.        ,  0.        ,  0.        ,\n",
       "         0.        ,  0.        ,  0.        ,  0.        ,  0.        ,\n",
       "         0.        ,  0.        , -0.40824829, -0.57735027,  0.64485156]])"
      ]
     },
     "execution_count": 13,
     "metadata": {},
     "output_type": "execute_result"
    }
   ],
   "source": [
    "rv"
   ]
  },
  {
   "cell_type": "code",
   "execution_count": 14,
   "metadata": {},
   "outputs": [
    {
     "data": {
      "text/plain": [
       "array([[ 0.80887405, -0.57735027,  0.        ,  0.        ,  0.        ,\n",
       "         0.        ,  0.        ,  0.        ,  0.        ,  0.        ,\n",
       "         0.        ,  0.        ,  0.        ,  0.        ,  0.        ],\n",
       "       [-0.50083244, -0.57735027, -0.70710678,  0.        ,  0.        ,\n",
       "         0.        ,  0.        ,  0.        ,  0.        ,  0.        ,\n",
       "         0.        ,  0.        ,  0.        ,  0.        ,  0.        ],\n",
       "       [-0.30804161, -0.57735027,  0.70710678,  0.        ,  0.        ,\n",
       "         0.        ,  0.        ,  0.        ,  0.        ,  0.        ,\n",
       "         0.        ,  0.        ,  0.        ,  0.        ,  0.        ],\n",
       "       [ 0.        ,  0.        ,  0.        ,  0.80887405, -0.57735027,\n",
       "         0.        ,  0.        ,  0.        ,  0.        ,  0.        ,\n",
       "         0.        ,  0.        ,  0.        ,  0.        ,  0.        ],\n",
       "       [ 0.        ,  0.        ,  0.        , -0.50083244, -0.57735027,\n",
       "        -0.70710678,  0.        ,  0.        ,  0.        ,  0.        ,\n",
       "         0.        ,  0.        ,  0.        ,  0.        ,  0.        ],\n",
       "       [ 0.        ,  0.        ,  0.        , -0.30804161, -0.57735027,\n",
       "         0.70710678,  0.        ,  0.        ,  0.        ,  0.        ,\n",
       "         0.        ,  0.        ,  0.        ,  0.        ,  0.        ],\n",
       "       [ 0.        ,  0.        ,  0.        ,  0.        ,  0.        ,\n",
       "         0.        ,  0.80887405, -0.57735027,  0.        ,  0.        ,\n",
       "         0.        ,  0.        ,  0.        ,  0.        ,  0.        ],\n",
       "       [ 0.        ,  0.        ,  0.        ,  0.        ,  0.        ,\n",
       "         0.        , -0.50083244, -0.57735027, -0.70710678,  0.        ,\n",
       "         0.        ,  0.        ,  0.        ,  0.        ,  0.        ],\n",
       "       [ 0.        ,  0.        ,  0.        ,  0.        ,  0.        ,\n",
       "         0.        , -0.30804161, -0.57735027,  0.70710678,  0.        ,\n",
       "         0.        ,  0.        ,  0.        ,  0.        ,  0.        ],\n",
       "       [ 0.        ,  0.        ,  0.        ,  0.        ,  0.        ,\n",
       "         0.        ,  0.        ,  0.        ,  0.        ,  0.80887405,\n",
       "        -0.57735027,  0.        ,  0.        ,  0.        ,  0.        ],\n",
       "       [ 0.        ,  0.        ,  0.        ,  0.        ,  0.        ,\n",
       "         0.        ,  0.        ,  0.        ,  0.        , -0.50083244,\n",
       "        -0.57735027, -0.70710678,  0.        ,  0.        ,  0.        ],\n",
       "       [ 0.        ,  0.        ,  0.        ,  0.        ,  0.        ,\n",
       "         0.        ,  0.        ,  0.        ,  0.        , -0.30804161,\n",
       "        -0.57735027,  0.70710678,  0.        ,  0.        ,  0.        ],\n",
       "       [ 0.        ,  0.        ,  0.        ,  0.        ,  0.        ,\n",
       "         0.        ,  0.        ,  0.        ,  0.        ,  0.        ,\n",
       "         0.        ,  0.        ,  0.80887405, -0.57735027,  0.        ],\n",
       "       [ 0.        ,  0.        ,  0.        ,  0.        ,  0.        ,\n",
       "         0.        ,  0.        ,  0.        ,  0.        ,  0.        ,\n",
       "         0.        ,  0.        , -0.50083244, -0.57735027, -0.70710678],\n",
       "       [ 0.        ,  0.        ,  0.        ,  0.        ,  0.        ,\n",
       "         0.        ,  0.        ,  0.        ,  0.        ,  0.        ,\n",
       "         0.        ,  0.        , -0.30804161, -0.57735027,  0.70710678]])"
      ]
     },
     "execution_count": 14,
     "metadata": {},
     "output_type": "execute_result"
    }
   ],
   "source": [
    "lv"
   ]
  },
  {
   "cell_type": "code",
   "execution_count": 15,
   "metadata": {},
   "outputs": [
    {
     "data": {
      "text/plain": [
       "[0.0,\n",
       " 0.0,\n",
       " 0.0,\n",
       " 0.0,\n",
       " 0.0,\n",
       " 1.4999999999999998,\n",
       " 1.4999999999999998,\n",
       " 1.4999999999999998,\n",
       " 1.4999999999999998,\n",
       " 1.4999999999999998,\n",
       " 1.4999999999999998,\n",
       " 1.4999999999999998,\n",
       " 1.4999999999999998,\n",
       " 1.4999999999999998,\n",
       " 1.4999999999999998]"
      ]
     },
     "execution_count": 15,
     "metadata": {},
     "output_type": "execute_result"
    }
   ],
   "source": [
    "sorted(np.real(ev))"
   ]
  },
  {
   "cell_type": "code",
   "execution_count": 16,
   "metadata": {},
   "outputs": [
    {
     "data": {
      "text/plain": [
       "-1.1102230246251565e-16"
      ]
     },
     "execution_count": 16,
     "metadata": {},
     "output_type": "execute_result"
    }
   ],
   "source": [
    "-1.1102230246251565e-16 "
   ]
  },
  {
   "cell_type": "code",
   "execution_count": 17,
   "metadata": {},
   "outputs": [],
   "source": [
    "def adjust_eps(x, eps=0.0001):\n",
    "    if x > -eps and x < eps:\n",
    "        return 0\n",
    "    return x"
   ]
  },
  {
   "cell_type": "code",
   "execution_count": 18,
   "metadata": {},
   "outputs": [
    {
     "ename": "IndentationError",
     "evalue": "expected an indented block (<ipython-input-18-1a8f4c479a33>, line 2)",
     "output_type": "error",
     "traceback": [
      "\u001b[0;36m  File \u001b[0;32m\"<ipython-input-18-1a8f4c479a33>\"\u001b[0;36m, line \u001b[0;32m2\u001b[0m\n\u001b[0;31m    \u001b[0m\n\u001b[0m    ^\u001b[0m\n\u001b[0;31mIndentationError\u001b[0m\u001b[0;31m:\u001b[0m expected an indented block\n"
     ]
    }
   ],
   "source": [
    "def process_eigs(ev, rv, eps=1e-10):\n",
    "    "
   ]
  },
  {
   "cell_type": "code",
   "execution_count": 19,
   "metadata": {},
   "outputs": [],
   "source": [
    "t = list(zip(ev, rv))[0]"
   ]
  },
  {
   "cell_type": "code",
   "execution_count": 20,
   "metadata": {},
   "outputs": [
    {
     "data": {
      "text/plain": [
       "1.4999999999999998"
      ]
     },
     "execution_count": 20,
     "metadata": {},
     "output_type": "execute_result"
    }
   ],
   "source": [
    "np.real(ev[0])"
   ]
  },
  {
   "cell_type": "code",
   "execution_count": 21,
   "metadata": {},
   "outputs": [
    {
     "data": {
      "text/plain": [
       "[1.4999999999999998,\n",
       " 0,\n",
       " 1.4999999999999998,\n",
       " 1.4999999999999998,\n",
       " 0,\n",
       " 1.4999999999999998,\n",
       " 1.4999999999999998,\n",
       " 0,\n",
       " 1.4999999999999998,\n",
       " 1.4999999999999998,\n",
       " 0,\n",
       " 1.4999999999999998,\n",
       " 1.4999999999999998,\n",
       " 0,\n",
       " 1.4999999999999998]"
      ]
     },
     "execution_count": 21,
     "metadata": {},
     "output_type": "execute_result"
    }
   ],
   "source": [
    "ev = np.real(ev)\n",
    "ev = list(map(adjust_eps, ev))\n",
    "ev"
   ]
  },
  {
   "cell_type": "code",
   "execution_count": 22,
   "metadata": {},
   "outputs": [
    {
     "data": {
      "text/plain": [
       "[(0, array([-0.40824829, -0.57735027, -0.7561594 ,  0.        ,  0.        ,\n",
       "          0.        ,  0.        ,  0.        ,  0.        ,  0.        ,\n",
       "          0.        ,  0.        ,  0.        ,  0.        ,  0.        ])),\n",
       " (0, array([ 0.        ,  0.        ,  0.        , -0.40824829, -0.57735027,\n",
       "         -0.7561594 ,  0.        ,  0.        ,  0.        ,  0.        ,\n",
       "          0.        ,  0.        ,  0.        ,  0.        ,  0.        ])),\n",
       " (0, array([ 0.        ,  0.        ,  0.        ,  0.        ,  0.        ,\n",
       "          0.        , -0.40824829, -0.57735027, -0.7561594 ,  0.        ,\n",
       "          0.        ,  0.        ,  0.        ,  0.        ,  0.        ])),\n",
       " (0, array([ 0.        ,  0.        ,  0.        ,  0.        ,  0.        ,\n",
       "          0.        ,  0.        ,  0.        ,  0.        , -0.40824829,\n",
       "         -0.57735027, -0.7561594 ,  0.        ,  0.        ,  0.        ])),\n",
       " (0, array([ 0.        ,  0.        ,  0.        ,  0.        ,  0.        ,\n",
       "          0.        ,  0.        ,  0.        ,  0.        ,  0.        ,\n",
       "          0.        ,  0.        , -0.40824829, -0.57735027, -0.7561594 ])),\n",
       " (1.4999999999999998,\n",
       "  array([ 0.81649658, -0.57735027,  0.11130784,  0.        ,  0.        ,\n",
       "          0.        ,  0.        ,  0.        ,  0.        ,  0.        ,\n",
       "          0.        ,  0.        ,  0.        ,  0.        ,  0.        ])),\n",
       " (1.4999999999999998,\n",
       "  array([-0.40824829, -0.57735027,  0.64485156,  0.        ,  0.        ,\n",
       "          0.        ,  0.        ,  0.        ,  0.        ,  0.        ,\n",
       "          0.        ,  0.        ,  0.        ,  0.        ,  0.        ])),\n",
       " (1.4999999999999998,\n",
       "  array([ 0.        ,  0.        ,  0.        ,  0.81649658, -0.57735027,\n",
       "          0.11130784,  0.        ,  0.        ,  0.        ,  0.        ,\n",
       "          0.        ,  0.        ,  0.        ,  0.        ,  0.        ])),\n",
       " (1.4999999999999998,\n",
       "  array([ 0.        ,  0.        ,  0.        , -0.40824829, -0.57735027,\n",
       "          0.64485156,  0.        ,  0.        ,  0.        ,  0.        ,\n",
       "          0.        ,  0.        ,  0.        ,  0.        ,  0.        ])),\n",
       " (1.4999999999999998,\n",
       "  array([ 0.        ,  0.        ,  0.        ,  0.        ,  0.        ,\n",
       "          0.        ,  0.81649658, -0.57735027,  0.11130784,  0.        ,\n",
       "          0.        ,  0.        ,  0.        ,  0.        ,  0.        ])),\n",
       " (1.4999999999999998,\n",
       "  array([ 0.        ,  0.        ,  0.        ,  0.        ,  0.        ,\n",
       "          0.        , -0.40824829, -0.57735027,  0.64485156,  0.        ,\n",
       "          0.        ,  0.        ,  0.        ,  0.        ,  0.        ])),\n",
       " (1.4999999999999998,\n",
       "  array([ 0.        ,  0.        ,  0.        ,  0.        ,  0.        ,\n",
       "          0.        ,  0.        ,  0.        ,  0.        ,  0.81649658,\n",
       "         -0.57735027,  0.11130784,  0.        ,  0.        ,  0.        ])),\n",
       " (1.4999999999999998,\n",
       "  array([ 0.        ,  0.        ,  0.        ,  0.        ,  0.        ,\n",
       "          0.        ,  0.        ,  0.        ,  0.        , -0.40824829,\n",
       "         -0.57735027,  0.64485156,  0.        ,  0.        ,  0.        ])),\n",
       " (1.4999999999999998,\n",
       "  array([ 0.        ,  0.        ,  0.        ,  0.        ,  0.        ,\n",
       "          0.        ,  0.        ,  0.        ,  0.        ,  0.        ,\n",
       "          0.        ,  0.        ,  0.81649658, -0.57735027,  0.11130784])),\n",
       " (1.4999999999999998,\n",
       "  array([ 0.        ,  0.        ,  0.        ,  0.        ,  0.        ,\n",
       "          0.        ,  0.        ,  0.        ,  0.        ,  0.        ,\n",
       "          0.        ,  0.        , -0.40824829, -0.57735027,  0.64485156]))]"
      ]
     },
     "execution_count": 22,
     "metadata": {},
     "output_type": "execute_result"
    }
   ],
   "source": [
    "z = zip(ev, rv)\n",
    "sorted_eigs = sorted(z, key=lambda t: t[0])\n",
    "sorted_eigs"
   ]
  },
  {
   "cell_type": "code",
   "execution_count": null,
   "metadata": {},
   "outputs": [],
   "source": []
  },
  {
   "cell_type": "code",
   "execution_count": 32,
   "metadata": {},
   "outputs": [
    {
     "data": {
      "text/plain": [
       "(0, array([ 0.        ,  0.        ,  0.        , -0.40824829, -0.57735027,\n",
       "        -0.7561594 ,  0.        ,  0.        ,  0.        ,  0.        ,\n",
       "         0.        ,  0.        ,  0.        ,  0.        ,  0.        ]))"
      ]
     },
     "execution_count": 32,
     "metadata": {},
     "output_type": "execute_result"
    }
   ],
   "source": [
    "sorted_eigs[1]"
   ]
  },
  {
   "cell_type": "code",
   "execution_count": 38,
   "metadata": {},
   "outputs": [],
   "source": [
    "v2 = sorted_eigs[1][1]\n",
    "v3 = sorted_eigs[2][1]"
   ]
  },
  {
   "cell_type": "code",
   "execution_count": 54,
   "metadata": {},
   "outputs": [
    {
     "data": {
      "text/plain": [
       "{7, 8, 9, 10, 11, 12, 13, 14}"
      ]
     },
     "execution_count": 54,
     "metadata": {},
     "output_type": "execute_result"
    }
   ],
   "source": [
    "V = set(range(G.number_of_nodes()))\n",
    "ranked_y = sorted(zip(range(len(v2)), v2), key=lambda t: t[1])\n",
    "\n",
    "A = ranked_y[:len(ranked_y)/2]\n",
    "A = map(lambda t: t[0], A)\n",
    "A = set(A)\n",
    "B = V - A"
   ]
  },
  {
   "cell_type": "code",
   "execution_count": 71,
   "metadata": {},
   "outputs": [
    {
     "data": {
      "text/plain": [
       "array([ 0.        ,  0.        ,  0.        , -0.        , -0.        ,\n",
       "       -0.        ,  0.40824829,  0.57735027,  0.7561594 ,  0.        ,\n",
       "        0.        ,  0.        ,  0.        ,  0.        ,  0.        ])"
      ]
     },
     "execution_count": 71,
     "metadata": {},
     "output_type": "execute_result"
    }
   ],
   "source": [
    "i = 6\n",
    "y = sorted_eigs[1][1]\n",
    "x = sorted_eigs[2][1]\n",
    "\n",
    "x[i]/np.sqrt(x[i]**2 + y[i]**2)*x + y[i]/np.sqrt(x[i]**2 + y[i]**2) * y"
   ]
  },
  {
   "cell_type": "code",
   "execution_count": 73,
   "metadata": {},
   "outputs": [
    {
     "data": {
      "text/plain": [
       "{0: [1, 2],\n",
       " 1: [2],\n",
       " 3: [4, 5],\n",
       " 4: [5],\n",
       " 6: [8, 7],\n",
       " 7: [8],\n",
       " 9: [10, 11],\n",
       " 10: [11],\n",
       " 12: [13, 14],\n",
       " 13: [14]}"
      ]
     },
     "execution_count": 73,
     "metadata": {},
     "output_type": "execute_result"
    }
   ],
   "source": [
    "adj = {}\n",
    "for i,j in G.edges():\n",
    "    if i not in adj:\n",
    "        adj[i] = [j]\n",
    "    else:\n",
    "        adj[i] = adj[i] + [j]\n",
    "\n",
    "adj\n"
   ]
  },
  {
   "cell_type": "code",
   "execution_count": 74,
   "metadata": {},
   "outputs": [],
   "source": [
    "# Return the number of edges crossing the cut (A,B) in G (A,B \\subset V)\n",
    "def E(A,B,G):\n",
    "    total = 0\n",
    "    for i,j in G.edges():\n",
    "        if i in A and j in B:\n",
    "            total += 1\n",
    "    return total"
   ]
  },
  {
   "cell_type": "code",
   "execution_count": 82,
   "metadata": {},
   "outputs": [
    {
     "name": "stderr",
     "output_type": "stream",
     "text": [
      "/anaconda2/lib/python2.7/site-packages/ipykernel_launcher.py:22: RuntimeWarning: invalid value encountered in double_scalars\n"
     ]
    },
    {
     "data": {
      "text/plain": [
       "({0, 1, 2, 3, 4, 5, 6}, {7, 8, 9, 10, 11, 12, 13, 14})"
      ]
     },
     "execution_count": 82,
     "metadata": {},
     "output_type": "execute_result"
    }
   ],
   "source": [
    "rocha_partition(G)"
   ]
  },
  {
   "cell_type": "code",
   "execution_count": 81,
   "metadata": {},
   "outputs": [],
   "source": [
    "def rocha_partition(G, eps=1e-10):\n",
    "    L = nx.laplacian_matrix(G)\n",
    "    L = L.toarray()\n",
    "    ev, lv, rv = eig(L, left=True, right=True)\n",
    "    ev = np.real(ev)\n",
    "    ev = list(map(adjust_eps, ev))\n",
    "    z = zip(ev, rv)\n",
    "    sorted_eigs = sorted(z, key=lambda t: t[0])\n",
    "    \n",
    "    V = set(range(G.number_of_nodes()))\n",
    "    y = sorted_eigs[1][1]\n",
    "    x = sorted_eigs[2][1]\n",
    "    \n",
    "    ranked_y = sorted(zip(range(len(y)), y), key=lambda t: t[1])\n",
    "    A = ranked_y[:len(ranked_y)/2]\n",
    "    \n",
    "    A = map(lambda t: t[0], A)\n",
    "    A = set(A)\n",
    "    B = V - A\n",
    "    \n",
    "    for i in G.nodes():\n",
    "        u = x[i]/np.sqrt(x[i]**2 + y[i]**2)*x + y[i]/np.sqrt(x[i]**2 + y[i]**2) * y\n",
    "        ranked_u = sorted(zip(range(len(u)), u), key=lambda t: t[1])\n",
    "        R = ranked_u[:len(ranked_u)/2]\n",
    "        R = map(lambda t: t[0], R)\n",
    "        R = set(R)\n",
    "        S = V-R\n",
    "        \n",
    "        # TODO: num.edges crossing cut set\n",
    "        if E(R,S,G) < E(A,B,G):\n",
    "            A = R\n",
    "            B = S\n",
    "    return A,B"
   ]
  },
  {
   "cell_type": "code",
   "execution_count": 283,
   "metadata": {},
   "outputs": [],
   "source": [
    "def feidler_vector(G, eps=1e-10):\n",
    "    L = nx.laplacian_matrix(G)\n",
    "    L = L.toarray()\n",
    "    ev, lv, rv = eig(L, left=True, right=True)\n",
    "    ev = np.real(ev)\n",
    "    ev = list(map(adjust_eps, ev))\n",
    "    z = zip(ev, rv)\n",
    "    sorted_eigs = sorted(z, key=lambda t: t[0])\n",
    "    min_ev = min(ev)\n",
    "    new_evs = filter(lambda x: x != min_ev, sorted(ev))\n",
    "    l2 = list(new_evs)[0]\n",
    "    second_vector = list(filter(lambda t: t[0] == l2, sorted_eigs))[0]\n",
    "    return l2, second_vector"
   ]
  },
  {
   "cell_type": "code",
   "execution_count": 316,
   "metadata": {},
   "outputs": [],
   "source": [
    "G = gen_cc_graph(n_components=100, cc_size=10)"
   ]
  },
  {
   "cell_type": "code",
   "execution_count": 317,
   "metadata": {},
   "outputs": [],
   "source": [
    "second_value, second_vector = feidler_vector(G)"
   ]
  },
  {
   "cell_type": "code",
   "execution_count": 292,
   "metadata": {},
   "outputs": [
    {
     "data": {
      "text/plain": [
       "array([31, 32, 34, 35, 36, 37, 39])"
      ]
     },
     "execution_count": 292,
     "metadata": {},
     "output_type": "execute_result"
    }
   ],
   "source": [
    "np.arange(len(second_vector[1]))[second_vector[1] > 0]"
   ]
  },
  {
   "cell_type": "code",
   "execution_count": null,
   "metadata": {},
   "outputs": [],
   "source": [
    "def partition(G, k):\n",
    "    n, m = G.number_of_nodes(), G.number_of_edges()\n",
    "    l2, x = feidler_vector(G)\n",
    "    indices = np.arange(n)\n",
    "    C1_nodes = indices[x <= 0]\n",
    "    C2_nodes = indices[x > 0]\n",
    "    if k == 2:\n",
    "        "
   ]
  },
  {
   "cell_type": "code",
   "execution_count": 290,
   "metadata": {},
   "outputs": [
    {
     "data": {
      "text/plain": [
       "132"
      ]
     },
     "execution_count": 290,
     "metadata": {},
     "output_type": "execute_result"
    }
   ],
   "source": [
    "G.num()"
   ]
  },
  {
   "cell_type": "code",
   "execution_count": 312,
   "metadata": {},
   "outputs": [
    {
     "name": "stdout",
     "output_type": "stream",
     "text": [
      "{0, 1, 2, 3, 4, 5, 6, 8, 9}\n",
      "{10, 11, 12, 13, 14, 15, 16, 17, 18}\n",
      "{20, 21, 22, 23, 24, 26, 27, 28}\n",
      "{34, 36, 30, 31}\n",
      "{32, 33, 35, 37, 38, 39}\n",
      "{40, 41, 42, 43, 44, 45, 46, 47, 48, 49}\n",
      "{50, 51, 52, 53, 54, 55, 56, 57, 58}\n",
      "{64, 65, 66, 67, 68, 69, 60, 61, 62, 63}\n",
      "{70, 71, 73, 74, 75, 76, 77}\n",
      "{72, 78}\n",
      "{80, 81, 82, 83, 84, 86, 87, 88, 89}\n",
      "{96, 97, 98, 99, 90, 91, 92, 93, 94}\n",
      "{100, 101, 102, 103, 104, 105, 106, 107, 108}\n",
      "{110, 111, 113, 114, 115, 116, 117, 118, 119}\n",
      "{129, 120, 122, 123, 124, 125, 126, 127}\n",
      "{130, 132, 133, 134, 135, 136, 137, 138}\n",
      "{140, 141, 142, 143, 144, 145, 146, 147, 148, 149}\n",
      "{150, 151, 152, 153, 154, 155, 157, 158, 159}\n",
      "{160, 163, 164, 165, 166, 167, 168, 169}\n",
      "{170, 171, 172, 173, 174, 175, 176, 177, 178, 179}\n",
      "{180, 181, 182, 183, 185, 186, 187, 188}\n",
      "{192, 193, 194, 195, 196, 197, 198, 199, 190, 191}\n",
      "{200, 201, 202, 203, 205, 206, 207, 209}\n",
      "{208, 204}\n",
      "{210, 211, 212, 213, 214, 215, 216, 217, 219}\n",
      "{224, 225, 226, 227, 228, 229, 220, 221, 222, 223}\n",
      "{230, 231, 232, 233, 234, 235, 237, 238, 239}\n",
      "{240, 241, 242, 243, 244, 245, 246, 247, 248, 249}\n",
      "{256, 257, 258, 259, 250, 251, 252, 253, 254, 255}\n",
      "{260, 261, 262, 263, 264, 265, 266, 267, 268}\n",
      "{270, 271, 273, 274, 275, 276, 277, 278, 279}\n",
      "{288, 280, 281, 283, 285, 286, 287}\n",
      "{290, 292, 293, 296, 297}\n",
      "{291, 294, 295, 298, 299}\n",
      "{300, 301, 302, 304, 305, 306, 307, 309}\n",
      "{310, 311, 312, 313, 316, 317, 318, 319}\n",
      "{314, 315}\n",
      "{320, 321, 323, 324, 325, 326, 327, 328, 329}\n",
      "{330, 331, 332, 334, 335, 336, 337, 338, 339}\n",
      "{340, 341, 342, 343, 344, 345, 346, 347, 349}\n",
      "{352, 353, 354, 355, 356, 357, 358, 350, 351}\n",
      "{360, 361, 362, 363, 364, 365, 366, 367, 368, 369}\n",
      "{370, 371, 372, 373, 374, 375, 376, 377, 378, 379}\n",
      "{387, 380}\n",
      "{385, 386, 388, 389, 381, 382, 383}\n",
      "{390, 391, 392, 394, 395, 396, 397, 398, 399}\n",
      "{401, 403, 404, 405, 406, 408, 409}\n",
      "{402, 407}\n",
      "{416, 417, 418, 419, 411, 412, 413, 414, 415}\n",
      "{421, 422, 423, 424, 425, 426, 427, 428, 429}\n",
      "{430, 431, 433, 434, 435, 436, 437, 438, 439}\n",
      "{448, 449, 440, 441, 442, 443, 444, 446}\n",
      "{445, 447}\n",
      "{450, 451, 452, 453, 454, 455, 456, 457, 458, 459}\n",
      "{460, 461, 462, 463, 464, 465, 467, 468, 469}\n",
      "{470, 471, 472, 473, 475, 476, 477, 478, 479}\n",
      "{480, 481, 482, 483, 484, 485, 486, 487, 488, 489}\n",
      "{490, 491, 492, 493, 494, 495, 496, 497}\n",
      "{500, 501, 502, 503, 504, 505, 506, 507, 509}\n",
      "{512, 513, 514, 515, 516, 517, 519, 510, 511}\n",
      "{520, 521, 523, 524, 525, 526, 527, 528, 529}\n",
      "{530, 532, 533, 534, 535, 536, 537, 539}\n",
      "{544, 545, 546, 547, 548, 549, 540, 541}\n",
      "{542, 543}\n",
      "{550, 551, 552, 553, 554, 555, 556, 557, 558, 559}\n",
      "{560, 561, 562, 563, 564, 565, 566, 567, 568, 569}\n",
      "{576, 577, 578, 579, 571, 572, 573, 574, 575}\n",
      "{580, 581, 582, 583, 584, 585, 586, 587, 588, 589}\n",
      "{590, 592, 593, 594, 595, 596, 597, 598, 599}\n",
      "{608, 609, 600, 601, 602, 603, 604, 605, 606}\n",
      "{610, 611, 612, 613, 614, 615, 617, 618, 619}\n",
      "{620, 621, 622, 623, 624, 625, 626, 627, 628, 629}\n",
      "{630, 631, 632, 633, 635, 636, 637, 638, 639}\n",
      "{640, 641, 642, 643, 644, 645, 646, 647, 649}\n",
      "{650, 652, 653, 654, 655, 656, 658, 659}\n",
      "{660, 662, 663, 664, 665, 667, 669}\n",
      "{668, 661}\n",
      "{672, 673, 674, 675, 676, 677, 679, 670, 671}\n",
      "{680, 681, 682, 683, 684, 685, 686, 687, 688, 689}\n",
      "{690, 691, 692, 694, 695, 696, 699}\n",
      "{697, 698}\n",
      "{704, 705, 706, 707, 708, 709, 700, 701, 702, 703}\n",
      "{710, 711, 712, 713, 714, 715, 716, 717, 718, 719}\n",
      "{721, 722, 723, 724, 725, 726, 727, 728, 729}\n",
      "{736, 738, 739, 730, 731, 732, 733, 734, 735}\n",
      "{740, 741, 742, 743, 744, 745, 746, 747, 748, 749}\n",
      "{750, 751, 752, 753, 754, 755, 757, 758, 759}\n",
      "{768, 760, 761, 762, 763, 764, 765, 766, 767}\n",
      "{770, 771, 772, 774, 775, 776, 777, 778, 779}\n",
      "{780, 781, 782, 783, 784, 785, 786, 787, 788}\n",
      "{790, 791, 792, 793, 794, 795, 796, 797, 798, 799}\n",
      "{800, 801, 802, 805, 807, 808}\n",
      "{809, 804, 806}\n",
      "{810, 811, 814, 815, 816, 817, 818, 819}\n",
      "{821, 822, 823, 824, 825, 826, 827, 828, 829}\n",
      "{832, 833, 835, 836, 837, 838, 839, 830}\n",
      "{840, 841, 842, 843, 844, 845, 846, 847, 848, 849}\n",
      "{850, 851, 852, 854, 855, 856, 857, 858, 859}\n",
      "{864, 866, 867, 868, 869, 860, 861, 862, 863}\n",
      "{870, 871, 872, 873, 876, 877, 878, 879}\n",
      "{874, 875}\n",
      "{880, 881, 882, 883, 884, 885, 886, 887, 888, 889}\n",
      "{896, 897, 898, 899, 890, 891, 892, 893, 894, 895}\n",
      "{900, 901, 902, 903, 904, 905, 906, 908, 909}\n",
      "{910, 911, 912, 913, 914, 915, 917, 918, 919}\n",
      "{929, 920, 921, 922, 923, 924, 925, 926, 927}\n",
      "{930, 931, 932, 933, 934, 935, 936, 938, 939}\n",
      "{940, 941, 942, 943, 944, 945, 946, 947, 949}\n",
      "{950, 951, 952, 953, 955, 956, 958, 959}\n",
      "{954, 957}\n",
      "{960, 962, 963, 964, 965, 966, 967, 968, 969}\n",
      "{970, 971, 972, 973, 974, 975, 976, 977, 978, 979}\n",
      "{980, 981, 982, 983, 984, 985, 986, 987, 988, 989}\n",
      "{992, 993, 994, 995, 996, 997, 998, 999, 990, 991}\n"
     ]
    }
   ],
   "source": [
    "for cc in nx.connected_components(G):\n",
    "    print(cc)"
   ]
  },
  {
   "cell_type": "code",
   "execution_count": 305,
   "metadata": {},
   "outputs": [
    {
     "ename": "SyntaxError",
     "evalue": "illegal target for annotation (<ipython-input-305-fb572e210018>, line 1)",
     "output_type": "error",
     "traceback": [
      "\u001b[0;36m  File \u001b[0;32m\"<ipython-input-305-fb572e210018>\"\u001b[0;36m, line \u001b[0;32m1\u001b[0m\n\u001b[0;31m    1:10\u001b[0m\n\u001b[0m        ^\u001b[0m\n\u001b[0;31mSyntaxError\u001b[0m\u001b[0;31m:\u001b[0m illegal target for annotation\n"
     ]
    }
   ],
   "source": []
  },
  {
   "cell_type": "code",
   "execution_count": null,
   "metadata": {},
   "outputs": [],
   "source": []
  }
 ],
 "metadata": {
  "kernelspec": {
   "display_name": "Python 3",
   "language": "python",
   "name": "python3"
  },
  "language_info": {
   "codemirror_mode": {
    "name": "ipython",
    "version": 3
   },
   "file_extension": ".py",
   "mimetype": "text/x-python",
   "name": "python",
   "nbconvert_exporter": "python",
   "pygments_lexer": "ipython3",
   "version": "3.6.4"
  }
 },
 "nbformat": 4,
 "nbformat_minor": 2
}
